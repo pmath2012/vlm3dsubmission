{
 "cells": [
  {
   "cell_type": "code",
   "execution_count": 1,
   "metadata": {},
   "outputs": [],
   "source": [
    "from medvae import MVAE\n",
    "import torch\n",
    "from nilearn.plotting import view_img\n",
    "import numpy as np\n",
    "import nibabel as nib"
   ]
  },
  {
   "cell_type": "markdown",
   "metadata": {},
   "source": [
    "## Download Sample Data\n",
    "\n",
    "If you have trouble download from huggingface, you can delete local cache 'rm -rf .cache' and restart your jupter kernel."
   ]
  },
  {
   "cell_type": "code",
   "execution_count": null,
   "metadata": {},
   "outputs": [],
   "source": [
    "from huggingface_hub import snapshot_download\n",
    "import shutil\n",
    "\n",
    "repo_id = \"stanfordmimi/MedVAE\"\n",
    "\n",
    "# Download the example_data directory\n",
    "local_dir = snapshot_download(\n",
    "    repo_id=repo_id,\n",
    "    allow_patterns=[\"example_data/*\"],  # Only download files in example_data folder\n",
    "    local_dir=\"./\",                # Save to data directory\n",
    "    max_workers=1,\n",
    "    etag_timeout=10000,\n",
    "    force_download=True,\n",
    ")\n",
    "\n",
    "# Rename the example_data directory to data\n",
    "shutil.move(\"example_data\", \"data\")\n",
    "\n",
    "# Remove the .cache directory\n",
    "shutil.rmtree(\".cache\")\n",
    "\n",
    "print(\"Download completed\")"
   ]
  },
  {
   "cell_type": "markdown",
   "metadata": {},
   "source": [
    "## Example with 2D MedVAE (f=16; C=3)"
   ]
  },
  {
   "cell_type": "code",
   "execution_count": null,
   "metadata": {},
   "outputs": [],
   "source": [
    "device = torch.device('cuda:0' if torch.cuda.is_available() else 'cpu')\n",
    "\n",
    "model = MVAE(\n",
    "    model_name='medvae_4_3_2d',\n",
    "    modality='xray',\n",
    ").to(device)\n",
    "model.requires_grad_(False)\n",
    "model.eval()\n",
    "\n",
    "fpath = 'data/mmg_data/TQcBVJediTG8E34ftHnapA.png'\n",
    "\n",
    "# Getting the transform and applying it\n",
    "transform = model.get_transform()\n",
    "img = transform(fpath).unsqueeze(0).to(device)\n",
    "\n",
    "# Getting the latent representation\n",
    "with torch.no_grad():\n",
    "    latent = model(img).cpu().detach().numpy()"
   ]
  },
  {
   "cell_type": "code",
   "execution_count": null,
   "metadata": {},
   "outputs": [],
   "source": [
    "view_img(stat_map_img=nib.Nifti1Image(latent.transpose(1, 2, 0), np.eye(4)), bg_img=False, cmap='gray')"
   ]
  },
  {
   "cell_type": "markdown",
   "metadata": {},
   "source": [
    "## CT Example with 3D MedVAE (f=64; C=1)"
   ]
  },
  {
   "cell_type": "code",
   "execution_count": null,
   "metadata": {},
   "outputs": [],
   "source": [
    "device = torch.device('cuda:0' if torch.cuda.is_available() else 'cpu')\n",
    "\n",
    "model = MVAE(\n",
    "    model_name='medvae_4_1_3d',\n",
    "    modality='CT',\n",
    ").to(device)\n",
    "model.requires_grad_(False)\n",
    "model.eval()\n",
    "\n",
    "fpath = 'data/ct_data/sino_7858_0398.nii.gz'\n",
    "\n",
    "# Apply the model transform -- easiest way\n",
    "img = model.apply_transform(fpath).to(device)\n",
    "\n",
    "# Getting the latent representation\n",
    "with torch.no_grad():\n",
    "    latent = model(img).cpu().detach().numpy()"
   ]
  },
  {
   "cell_type": "code",
   "execution_count": null,
   "metadata": {},
   "outputs": [],
   "source": [
    "view_img(stat_map_img=nib.Nifti1Image(latent, np.eye(4)), bg_img=False, cmap='gray')"
   ]
  },
  {
   "cell_type": "markdown",
   "metadata": {},
   "source": [
    "## MRI Example with 3D MedVAE (f=64; C=1)"
   ]
  },
  {
   "cell_type": "code",
   "execution_count": null,
   "metadata": {},
   "outputs": [],
   "source": [
    "device = torch.device('cuda:0' if torch.cuda.is_available() else 'cpu')\n",
    "\n",
    "model = MVAE(\n",
    "    model_name='medvae_4_1_3d',\n",
    "    modality='MRI',\n",
    ").to(device)\n",
    "model.requires_grad_(False)\n",
    "model.eval()\n",
    "\n",
    "fpath = 'data/mri_data/t1oasis_case_1286.nii.gz'\n",
    "\n",
    "# Apply the model transform -- easiest way\n",
    "img = model.apply_transform(fpath).to(device)\n",
    "\n",
    "# Getting the latent representation\n",
    "with torch.no_grad():\n",
    "    latent = model(img).cpu().detach().numpy()"
   ]
  },
  {
   "cell_type": "code",
   "execution_count": null,
   "metadata": {},
   "outputs": [],
   "source": [
    "view_img(stat_map_img=nib.Nifti1Image(latent, np.eye(4)), bg_img=False, cmap='gray')"
   ]
  }
 ],
 "metadata": {
  "kernelspec": {
   "display_name": "compress",
   "language": "python",
   "name": "python3"
  },
  "language_info": {
   "codemirror_mode": {
    "name": "ipython",
    "version": 3
   },
   "file_extension": ".py",
   "mimetype": "text/x-python",
   "name": "python",
   "nbconvert_exporter": "python",
   "pygments_lexer": "ipython3",
   "version": "3.10.14"
  }
 },
 "nbformat": 4,
 "nbformat_minor": 2
}
